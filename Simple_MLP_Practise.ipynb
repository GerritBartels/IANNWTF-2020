{
  "nbformat": 4,
  "nbformat_minor": 0,
  "metadata": {
    "kernelspec": {
      "display_name": "Python 3",
      "language": "python",
      "name": "python3"
    },
    "language_info": {
      "codemirror_mode": {
        "name": "ipython",
        "version": 3
      },
      "file_extension": ".py",
      "mimetype": "text/x-python",
      "name": "python",
      "nbconvert_exporter": "python",
      "pygments_lexer": "ipython3",
      "version": "3.6.12"
    },
    "colab": {
      "name": "Simple_MLP_Practise.ipynb",
      "provenance": [],
      "collapsed_sections": [],
      "include_colab_link": true
    }
  },
  "cells": [
    {
      "cell_type": "markdown",
      "metadata": {
        "id": "view-in-github",
        "colab_type": "text"
      },
      "source": [
        "<a href=\"https://colab.research.google.com/github/anniewit/IANNWTF-2020/blob/main/Simple_MLP_Practise.ipynb\" target=\"_parent\"><img src=\"https://colab.research.google.com/assets/colab-badge.svg\" alt=\"Open In Colab\"/></a>"
      ]
    },
    {
      "cell_type": "code",
      "metadata": {
        "id": "rU1Jsm5I2qiq"
      },
      "source": [
        "import numpy as np\n",
        "# NEXT LINE ONLY FOR COLAB!\n",
        "# %tensorflow_version 2.x\n",
        "import tensorflow as tf\n",
        "import matplotlib.pyplot as plt\n",
        "# COMMENT OUT THIS LINE FOR COLAB!\n",
        "# %matplotlib notebook"
      ],
      "execution_count": null,
      "outputs": []
    },
    {
      "cell_type": "code",
      "metadata": {
        "id": "h9WXpU6Q2qiz",
        "outputId": "8992c7de-b208-4726-b019-86f2946c2e74",
        "colab": {
          "base_uri": "https://localhost:8080/"
        }
      },
      "source": [
        "print(tf.__version__)"
      ],
      "execution_count": null,
      "outputs": [
        {
          "output_type": "stream",
          "text": [
            "2.3.0\n"
          ],
          "name": "stdout"
        }
      ]
    },
    {
      "cell_type": "markdown",
      "metadata": {
        "id": "dV7moAUh2qjC"
      },
      "source": [
        "**Disclaimer:** This Notebook heavily depends on the work of Luke Effenberger who held the course last year. You can find his original material under:\n",
        "https://lukeeffenberger.github.io/IANNWTF-2019/"
      ]
    },
    {
      "cell_type": "markdown",
      "metadata": {
        "id": "1ri4Q4Vj2qjD"
      },
      "source": [
        "### Create a simple regression dataset"
      ]
    },
    {
      "cell_type": "code",
      "metadata": {
        "id": "hN3GNCKP2qjG",
        "outputId": "a8dcf9af-bbc2-4036-dbdf-f564b5e85d4b",
        "colab": {
          "base_uri": "https://localhost:8080/",
          "height": 283
        }
      },
      "source": [
        "training_data_xs = np.linspace(-5,5, 20, dtype=np.float32)   ### TODO We need more data so make 200 points instead of 20 out of it \n",
        "def f(x):\n",
        "    return 0.02*(x**3-x**2+2*x)+0.3         # FYI we adapted the function slightly compared to the other notebook\n",
        "training_data_ys = np.array([f(x) for x in training_data_xs], dtype=np.float32)\n",
        "\n",
        "### TODO Make some test data points\n",
        "# They should be on the same line as the train data, but it should ideally be examples that are not included in the training set\n",
        "# you could sample some from the data using np.random.choice()\n",
        "\n",
        "\n",
        "\n",
        "plt.scatter(training_data_xs, training_data_ys, c='red')\n",
        "plt.xlim(-5,5)"
      ],
      "execution_count": null,
      "outputs": [
        {
          "output_type": "execute_result",
          "data": {
            "text/plain": [
              "(-5.0, 5.0)"
            ]
          },
          "metadata": {
            "tags": []
          },
          "execution_count": 4
        },
        {
          "output_type": "display_data",
          "data": {
            "image/png": "[encoded data removed]",
            "text/plain": [
              "<Figure size 432x288 with 1 Axes>"
            ]
          },
          "metadata": {
            "tags": [],
            "needs_background": "light"
          }
        }
      ]
    },
    {
      "cell_type": "code",
      "metadata": {
        "id": "PgRElnR92qjS",
        "outputId": "5e12d4d4-7c9b-4e81-d5b9-7ec17d1ed03d"
      },
      "source": [
        "# First understand the shape that your data has.\n",
        "print(training_data_xs.shape)\n",
        "print(training_data_ys.shape)\n",
        "\n",
        "### TODO Do the same for the test data set\n"
      ],
      "execution_count": null,
      "outputs": [
        {
          "output_type": "stream",
          "text": [
            "(20,)\n",
            "(20,)\n"
          ],
          "name": "stdout"
        }
      ]
    },
    {
      "cell_type": "markdown",
      "metadata": {
        "id": "c6xdCAZ8ikT3"
      },
      "source": [
        "### Convert it to a tf Dataset"
      ]
    },
    {
      "cell_type": "code",
      "metadata": {
        "id": "_IKdkwIaiokw"
      },
      "source": [
        "# It is easiest to use this dataset with TensorFlow by converting\n",
        "# it to a tf.data.Dataset (https://www.tensorflow.org/api_docs/python/tf/data/Dataset).\n",
        "# If, as in our case, you want to convert Numpy Arrays into a dataset\n",
        "# use tf.data.Dataset.from_tensor_slices\n",
        "# reshape the data to convert (1,) into (1,1)\n",
        "# Shuffe the data. If you want, you can also batch your data (e.g batchsize = 20)\n"
      ],
      "execution_count": null,
      "outputs": []
    },
    {
      "cell_type": "markdown",
      "metadata": {
        "id": "HzH_TJPA2qjf"
      },
      "source": [
        "### Build a simple network."
      ]
    },
    {
      "cell_type": "markdown",
      "metadata": {
        "id": "SchELUJljQE2"
      },
      "source": [
        "The last time we have used the class Linear. This time we want to use already inbuilt layers from **keras!** \n",
        "- Use 2 hidden layers with 256 neurons each and relu activation function. \n",
        "- The output layer has 1 neuron and no activation function."
      ]
    },
    {
      "cell_type": "code",
      "metadata": {
        "id": "AqFzEsTC2qj3"
      },
      "source": [
        "# We can stack multiple layers onto another to build a deep\n",
        "# neural network. Let' start with a simple MLP with one\n",
        "# hidden layer.\n",
        "\n",
        "from tensorflow.keras.models import Model\n",
        "from tensorflow.keras.layers import Layer\n",
        "\n",
        "\n",
        "# Formally we define another layer. So we have to inherit again.\n",
        "class MLP(Model):\n",
        "    \n",
        "    def __init__(self):\n",
        "        # TODO call the super init again.\n",
        "\n",
        "       # TODO instantiate the layers that our network has.\n",
        "  \n",
        "        \n",
        "    # In the call function we define the forward pass of the network.\n",
        "    def call(self, x):\n",
        "        # TODO \n",
        "        return # TODO"
      ],
      "execution_count": null,
      "outputs": []
    },
    {
      "cell_type": "markdown",
      "metadata": {
        "id": "YeVhCkxTltOH"
      },
      "source": [
        "### Define Training and Testing Steps."
      ]
    },
    {
      "cell_type": "code",
      "metadata": {
        "id": "1Zt1gj5Z-Yr2"
      },
      "source": [
        "def train_step(model, input, target, loss_function, optimizer):\n",
        "    # compute and apply gradients using gradient Tape\n",
        "     \n",
        "    return loss \n",
        "\n",
        "\n",
        "def test(model, test_data, loss_function):\n",
        "    # test over complete test data\n",
        "    test_loss_aggregator = []\n",
        "\n",
        "    for (input, target) in test_data:\n",
        "        # get a prediction from the model\n",
        "        \n",
        "        # calcuate the loss\n",
        "\n",
        "        # append the loss to the list (you might need to make an array out of it)\n",
        "\n",
        "    test_loss = np.mean(test_loss_aggregator)\n",
        "\n",
        "    return test_loss\n",
        "\n"
      ],
      "execution_count": null,
      "outputs": []
    },
    {
      "cell_type": "code",
      "metadata": {
        "id": "IJihal4DIdIA"
      },
      "source": [
        "tf.keras.backend.clear_session()\n",
        "\n",
        "### Hyperparameters\n",
        "num_epochs = 250\n",
        "learning_rate = 0.01\n",
        "running_average_factor = 0.95\n",
        "\n",
        "# TODO Initialize the model.\n",
        "model = \n",
        "\n",
        "# TODO Initialize the loss: Mean Squared Error. Check out 'tf.keras.losses'.\n",
        "mse = \n",
        "\n",
        "# Initialize the optimizer: SGD with default parameters. Check out 'tf.keras.optimizers'\n",
        "optimizer = \n",
        "\n",
        "# Initialize lists for later visualization.\n",
        "train_losses = []\n",
        "\n",
        "test_losses = []\n",
        "\n",
        "#testing once before we begin\n",
        "test_loss = test(model, test_dataset, mse)\n",
        "test_losses.append(test_loss)\n",
        "\n",
        "\n",
        "#check how model performs on train data once before we begin\n",
        "train_loss = test(model, train_dataset, mse)\n",
        "train_losses.append(train_loss)\n",
        "\n",
        "# We train for num_epochs epochs.\n",
        "for epoch in range(num_epochs):\n",
        "    # print('Epoch: __ ' + str(epoch))\n",
        "\n",
        "    # shuffle the data again in each epoch, so that the network cannot learn the order 'by heart'\n",
        "\n",
        "    \n",
        "    #training (and checking in with training)\n",
        "    for (input,target) in train_dataset:\n",
        "      # call the train step to compute the loss\n",
        "\n",
        "    # save the loss by appending it to the list\n",
        "    train_losses.append(running_average)\n",
        "\n",
        "    #testing\n",
        "    test_loss = test(model, test_dataset, mse)\n",
        "    test_losses.append(test_loss)"
      ],
      "execution_count": null,
      "outputs": []
    }
  ]
}