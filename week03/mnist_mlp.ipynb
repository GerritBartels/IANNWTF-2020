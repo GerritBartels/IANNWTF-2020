{
  "nbformat": 4,
  "nbformat_minor": 0,
  "metadata": {
    "kernelspec": {
      "display_name": "Python 3",
      "language": "python",
      "name": "python3"
    },
    "language_info": {
      "codemirror_mode": {
        "name": "ipython",
        "version": 3
      },
      "file_extension": ".py",
      "mimetype": "text/x-python",
      "name": "python",
      "nbconvert_exporter": "python",
      "pygments_lexer": "ipython3",
      "version": "3.7.3"
    },
    "colab": {
      "name": "Tensorflow_Intro.ipynb",
      "provenance": [],
      "collapsed_sections": []
    },
    "accelerator": "GPU"
  },
  "cells": [
    {
      "cell_type": "code",
      "metadata": {
        "id": "bvCeupatKuau"
      },
      "source": [
        "import numpy as np\n",
        "%tensorflow_version 2.x\n",
        "import tensorflow as tf\n",
        "import matplotlib.pyplot as plt"
      ],
      "execution_count": null,
      "outputs": []
    },
    {
      "cell_type": "markdown",
      "metadata": {
        "id": "R6_rej9sKua2"
      },
      "source": [
        "### Load the dataset."
      ]
    },
    {
      "cell_type": "code",
      "metadata": {
        "id": "bnWWVWvuKua3",
        "outputId": "9c08aa70-204b-4607-e2f3-edd97819a0f8",
        "colab": {
          "base_uri": "https://localhost:8080/"
        }
      },
      "source": [
        "# TensorFlow has some popular datasets already included. \n",
        "# Check out https://www.tensorflow.org/api_docs/python/tf/keras/datasets.\n",
        "# In this homework we will work with the popular MNIST dataset.\n",
        "(train_images, train_labels), (test_images, test_labels) = tf.keras.datasets.mnist.load_data()"
      ],
      "execution_count": null,
      "outputs": [
        {
          "output_type": "stream",
          "text": [
            "Downloading data from https://storage.googleapis.com/tensorflow/tf-keras-datasets/mnist.npz\n",
            "11493376/11490434 [==============================] - 0s 0us/step\n"
          ],
          "name": "stdout"
        }
      ]
    },
    {
      "cell_type": "markdown",
      "metadata": {
        "id": "TMyHOk95Kua7"
      },
      "source": [
        "### Investigate the dataset."
      ]
    },
    {
      "cell_type": "code",
      "metadata": {
        "id": "X00Bz5BFKua-",
        "outputId": "8af86962-c17a-4fce-83d0-a5d708acb3c8",
        "colab": {
          "base_uri": "https://localhost:8080/"
        }
      },
      "source": [
        "# You should make use of the following functions and properties.\n",
        "# You can access the shape of an array 'arr' with 'arr.shape'.\n",
        "# You can use 'np.max', 'np.min' to access the maximum or minimum of an array.\n",
        "print(train_images.shape)\n",
        "print(train_labels.shape)\n",
        "print(test_images.shape)\n",
        "print(test_labels.shape)\n",
        "print(np.max(train_images[0]))\n",
        "print(np.min(train_images[0]))"
      ],
      "execution_count": null,
      "outputs": [
        {
          "output_type": "stream",
          "text": [
            "(60000, 28, 28)\n",
            "(60000,)\n",
            "(10000, 28, 28)\n",
            "(10000,)\n",
            "255\n",
            "0\n"
          ],
          "name": "stdout"
        }
      ]
    },
    {
      "cell_type": "markdown",
      "metadata": {
        "id": "IB_CLl0HKua9"
      },
      "source": [
        "**It is always important to understand the format and the count of the data you are dealing with.**  \n",
        "\n",
        "*How many training/test images does this dataset have?*  \n",
        "60000 training images, 10000 test images\n",
        "\n",
        "*Which shape do the images have?*  \n",
        "28 times 28 pixels\n",
        "\n",
        "*In which range are the pixel values?*  \n",
        "grey-scale from 0 to 255"
      ]
    },
    {
      "cell_type": "markdown",
      "metadata": {
        "id": "uUvHpuoLKubF"
      },
      "source": [
        "### Visualize the dataset."
      ]
    },
    {
      "cell_type": "code",
      "metadata": {
        "id": "5xJP9MysrIPP",
        "outputId": "fa07ca3e-477c-4e9b-83b4-ad5efdd0ee9a",
        "colab": {
          "base_uri": "https://localhost:8080/"
        }
      },
      "source": [
        "print(train_labels[:20])"
      ],
      "execution_count": null,
      "outputs": [
        {
          "output_type": "stream",
          "text": [
            "[5 0 4 1 9 2 1 3 1 4 3 5 3 6 1 7 2 8 6 9]\n"
          ],
          "name": "stdout"
        }
      ]
    },
    {
      "cell_type": "code",
      "metadata": {
        "id": "6voVCNQHKubG",
        "outputId": "e87c8239-c97d-4b50-81a0-92be5edf6fc4",
        "colab": {
          "base_uri": "https://localhost:8080/",
          "height": 105
        }
      },
      "source": [
        "# It can also be helpful to have a proper look at specific samples of a dataset to understand what you are dealing with.\n",
        "# Plot 5 samples with their corresponding label.\n",
        "\n",
        "fig, ax = plt.subplots(1,5)\n",
        "for i in range(5):\n",
        "\n",
        "    # Readout an image and the corresponding label.\n",
        "    img = train_images[i]\n",
        "    lbl = train_labels[i]\n",
        "\n",
        "    ax[i].imshow(img, cmap='gray')\n",
        "    ax[i].set_title(lbl)\n",
        "    ax[i].axis(\"off\")"
      ],
      "execution_count": null,
      "outputs": [
        {
          "output_type": "display_data",
          "data": {
            "image/png": "[encoded data removed]",
            "text/plain": [
              "<Figure size 432x288 with 5 Axes>"
            ]
          },
          "metadata": {
            "tags": [],
            "needs_background": "light"
          }
        }
      ]
    },
    {
      "cell_type": "markdown",
      "metadata": {
        "id": "9-X8MfmNKubL"
      },
      "source": [
        "### Build the TensorFlow dataset: Input pipeline"
      ]
    },
    {
      "cell_type": "code",
      "metadata": {
        "id": "sHsz9NfYqzl1"
      },
      "source": [
        "# tf.data.Dataset.from_tensor_slices creates a tf.dataset from a tensor. The elements of the dataset are slices of the first tensor dimension\n",
        "train_dataset_images = tf.data.Dataset.from_tensor_slices(train_images)\n",
        "# the mapping function maps each  element to the dataset to the value defined by the lambda function\n",
        "# reshapes each tensor to vector\n",
        "train_dataset_images = train_dataset_images.map(lambda img : tf.reshape(img, (-1,)))\n",
        "\n",
        "\n",
        "train_dataset_targets = tf.data.Dataset.from_tensor_slices(train_labels)\n",
        "# we want the labels to be onehot encoded\n",
        "train_dataset_targets = train_dataset_targets.map(lambda t : tf.one_hot(t, 10))\n",
        "\n",
        "# zip together input and labels\n",
        "train_dataset = tf.data.Dataset.zip((train_dataset_images, train_dataset_targets))\n",
        "train_dataset = train_dataset.batch(128)\n",
        "train_dataset = train_dataset.shuffle(buffer_size=128)\n",
        "\n",
        "# repeat for the test dataset\n",
        "test_dataset_images = tf.data.Dataset.from_tensor_slices(test_images)\n",
        "test_dataset_images = test_dataset_images.map(lambda img : tf.reshape(img, (-1,)))\n",
        "\n",
        "test_dataset_targets = tf.data.Dataset.from_tensor_slices(test_labels)\n",
        "test_dataset_targets = test_dataset_targets.map(lambda t : tf.one_hot(t, 10))\n",
        "\n",
        "test_dataset = tf.data.Dataset.zip((test_dataset_images, test_dataset_targets))\n",
        "test_dataset = test_dataset.batch(128)\n",
        "test_dataset = test_dataset.shuffle(buffer_size=128)\n"
      ],
      "execution_count": null,
      "outputs": []
    },
    {
      "cell_type": "markdown",
      "metadata": {
        "id": "xmvHHSSJKubU"
      },
      "source": [
        "### Build the model."
      ]
    },
    {
      "cell_type": "code",
      "metadata": {
        "id": "0AxSFiVmKubV"
      },
      "source": [
        "# We will implement a simple fully connected feed forward neural network like the last time.\n",
        "#\n",
        "# Our network will have the following layers:\n",
        "# Input : 784 units.\n",
        "# Hidden layer 1: 256 units. With sigmoid activation function.\n",
        "# Hidden layer 2: 256 units. With sigmoid activation function.\n",
        "# Output: 10 units. With softmax activation function.\n",
        "# \n",
        "# Instead of implementing our own layer we can directly implement the network using pre-built layers \n",
        "# from TensorFlow.\n",
        "# For that check out 'tf.keras.layers.Dense(units= , activation=)'. It is basically the same layer that we\n",
        "# implemented by hand last time.\n",
        "# For activations functions check out 'tf.keras.activations'.\n",
        "\n",
        "from tensorflow.keras.layers import Layer\n",
        "\n",
        "class Model(Layer): \n",
        "    \n",
        "    def __init__(self):\n",
        "        super(Model, self).__init__()\n",
        "        # Define the three layers.\n",
        "        self.hidden_layer_1 = tf.keras.layers.Dense(units=256,\n",
        "                                               activation=tf.keras.activations.sigmoid\n",
        "                                               )\n",
        "        self.hidden_layer_2 = tf.keras.layers.Dense(units=256,\n",
        "                                               activation=tf.keras.activations.sigmoid\n",
        "                                               )\n",
        "        self.output_layer = tf.keras.layers.Dense(units=10,\n",
        "                                               activation=tf.keras.activations.softmax\n",
        "                                               )\n",
        "    #@tf.function\n",
        "    def call(self, x):\n",
        "        # Define the forward step.\n",
        "        x = self.hidden_layer_1(x)\n",
        "        x = self.hidden_layer_2(x)\n",
        "        x = self.output_layer(x)\n",
        "        return x"
      ],
      "execution_count": null,
      "outputs": []
    },
    {
      "cell_type": "markdown",
      "metadata": {
        "id": "VkEDZdIMKubZ"
      },
      "source": [
        "### Train the model."
      ]
    },
    {
      "cell_type": "code",
      "metadata": {
        "id": "SVg42aU_xGpK"
      },
      "source": [
        "def train_step(model, input, target, loss_function, optimizer):\n",
        "  # loss_object and optimizer_object are instances of respective tensorflow classes\n",
        "  with tf.GradientTape() as tape:\n",
        "    prediction = model(input)\n",
        "    loss = loss_function(target, prediction)\n",
        "    gradients = tape.gradient(loss, model.trainable_variables)\n",
        "  optimizer.apply_gradients(zip(gradients, model.trainable_variables))\n",
        "  return loss \n",
        "\n",
        "def test(model, test_data, loss_function):\n",
        "  # test over complete test data\n",
        "\n",
        "  test_accuracy_aggregator = []\n",
        "  test_loss_aggregator = []\n",
        "\n",
        "  for (input, target) in test_data:\n",
        "    prediction = model(input)\n",
        "    sample_test_loss = loss_function(target, prediction)\n",
        "    sample_test_accuracy =  np.argmax(target, axis=1) == np.argmax(prediction, axis=1)\n",
        "    sample_test_accuracy = np.mean(sample_test_accuracy)\n",
        "    test_loss_aggregator.append(sample_test_loss.numpy())\n",
        "    test_accuracy_aggregator.append(np.mean(sample_test_accuracy))\n",
        "\n",
        "  test_loss = np.mean(test_loss_aggregator)\n",
        "  test_accuracy = np.mean(test_accuracy_aggregator)\n",
        "\n",
        "  return test_loss, test_accuracy\n",
        "  \n",
        "\n"
      ],
      "execution_count": null,
      "outputs": []
    },
    {
      "cell_type": "code",
      "metadata": {
        "id": "wLUw0EhkKuba",
        "outputId": "5cd75677-c566-42ba-cc80-3e358762b1bd",
        "colab": {
          "base_uri": "https://localhost:8080/"
        }
      },
      "source": [
        "tf.keras.backend.clear_session()\n",
        "\n",
        "### Hyperparameters\n",
        "num_epochs = 10\n",
        "learning_rate = 0.001\n",
        "running_average_factor = 0.95\n",
        "\n",
        "# Initialize the model.\n",
        "model = Model()\n",
        "# Initialize the loss: categorical cross entropy. Check out 'tf.keras.losses'.\n",
        "cross_entropy_loss = tf.keras.losses.CategoricalCrossentropy()\n",
        "# Initialize the optimizer: Adam with default parameters. Check out 'tf.keras.optimizers'\n",
        "optimizer = tf.keras.optimizers.SGD(learning_rate)\n",
        "\n",
        "# Initialize lists for later visualization.\n",
        "train_losses = []\n",
        "\n",
        "test_losses = []\n",
        "test_accuracies = []\n",
        "\n",
        "#testing once before we begin\n",
        "test_loss, test_accuracy = test(model, test_dataset, cross_entropy_loss)\n",
        "test_losses.append(test_loss)\n",
        "test_accuracies.append(test_accuracy)\n",
        "\n",
        "#check how model performs on train data once before we begin\n",
        "train_loss, _ = test(model, train_dataset, cross_entropy_loss)\n",
        "train_losses.append(train_loss)\n",
        "\n",
        "# We train for num_epochs epochs.\n",
        "for epoch in range(num_epochs):\n",
        "    print('Epoch: __ ' + str(epoch))\n",
        "\n",
        "    train_dataset = train_dataset.shuffle(buffer_size=128)\n",
        "    test_dataset = test_dataset.shuffle(buffer_size=128)\n",
        "\n",
        "    #training (and checking in with training)\n",
        "    running_average = 0\n",
        "    for i, (input,target) in enumerate(train_dataset):\n",
        "        train_loss = train_step(model, input, target, cross_entropy_loss, optimizer)\n",
        "        running_average = running_average_factor * running_average  + (1 - running_average_factor) * train_loss\n",
        "    train_losses.append(running_average)\n",
        "\n",
        "    #testing\n",
        "    test_loss, test_accuracy = test(model, test_dataset, cross_entropy_loss)\n",
        "    test_losses.append(test_loss)\n",
        "    test_accuracies.append(test_accuracy)\n",
        "\n"
      ],
      "execution_count": null,
      "outputs": [
        {
          "output_type": "stream",
          "text": [
            "Epoch: __ 0\n",
            "Epoch: __ 1\n",
            "Epoch: __ 2\n",
            "Epoch: __ 3\n",
            "Epoch: __ 4\n",
            "Epoch: __ 5\n",
            "Epoch: __ 6\n",
            "Epoch: __ 7\n",
            "Epoch: __ 8\n",
            "Epoch: __ 9\n"
          ],
          "name": "stdout"
        }
      ]
    },
    {
      "cell_type": "markdown",
      "metadata": {
        "id": "Dc-tahx4Kubd"
      },
      "source": [
        "### Visualize the training progress."
      ]
    },
    {
      "cell_type": "code",
      "metadata": {
        "scrolled": false,
        "id": "_19Jebu2Kube",
        "outputId": "b52e5b2b-984b-41be-d93e-b3aec245c414",
        "colab": {
          "base_uri": "https://localhost:8080/",
          "height": 542
        }
      },
      "source": [
        "# Visualize accuracy and loss for training and test data. \n",
        "# One plot training and test loss.\n",
        "# One plot training and test accuracy.\n",
        "plt.figure()\n",
        "line1, = plt.plot(train_losses)\n",
        "line2, = plt.plot(test_losses)\n",
        "plt.xlabel(\"Training steps\")\n",
        "plt.ylabel(\"Loss\")\n",
        "plt.legend((line1,line2),(\"training\",\"test\"))\n",
        "plt.show()\n",
        "\n",
        "plt.figure()\n",
        "line1, = plt.plot(test_accuracies)\n",
        "plt.xlabel(\"Training steps\")\n",
        "plt.ylabel(\"Accuracy\")\n",
        "plt.show()\n"
      ],
      "execution_count": null,
      "outputs": [
        {
          "output_type": "display_data",
          "data": {
            "image/png": "[encoded data removed]",
            "text/plain": [
              "<Figure size 432x288 with 1 Axes>"
            ]
          },
          "metadata": {
            "tags": [],
            "needs_background": "light"
          }
        },
        {
          "output_type": "display_data",
          "data": {
            "image/png": "[encoded data removed]",
            "text/plain": [
              "<Figure size 432x288 with 1 Axes>"
            ]
          },
          "metadata": {
            "tags": [],
            "needs_background": "light"
          }
        }
      ]
    },
    {
      "cell_type": "markdown",
      "metadata": {
        "id": "Oc0px5ZJhD33"
      },
      "source": [
        "## Saving Parameters\n",
        "Now that we have seen that our model performs pretty well, we might want to save all the parameters that it has learnt now and use it again later. The easiest way is to save the whole model: \n"
      ]
    },
    {
      "cell_type": "code",
      "metadata": {
        "id": "BmrHsptUiGag"
      },
      "source": [
        "model.save('my/path/location')"
      ],
      "execution_count": null,
      "outputs": []
    },
    {
      "cell_type": "markdown",
      "metadata": {
        "id": "Yo37lt9riSSs"
      },
      "source": [
        "The next time we can simply load it again:"
      ]
    },
    {
      "cell_type": "code",
      "metadata": {
        "id": "l9ngwfDcicaX"
      },
      "source": [
        "new_model = keras.model.load_model('my/path/location')"
      ],
      "execution_count": null,
      "outputs": []
    }
  ]
}