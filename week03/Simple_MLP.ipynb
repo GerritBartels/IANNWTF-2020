{
  "nbformat": 4,
  "nbformat_minor": 0,
  "metadata": {
    "kernelspec": {
      "display_name": "Python 3",
      "language": "python",
      "name": "python3"
    },
    "language_info": {
      "codemirror_mode": {
        "name": "ipython",
        "version": 3
      },
      "file_extension": ".py",
      "mimetype": "text/x-python",
      "name": "python",
      "nbconvert_exporter": "python",
      "pygments_lexer": "ipython3",
      "version": "3.6.12"
    },
    "colab": {
      "name": "Simple_MLP.ipynb",
      "provenance": []
    }
  },
  "cells": [
    {
      "cell_type": "code",
      "metadata": {
        "id": "rU1Jsm5I2qiq"
      },
      "source": [
        "import numpy as np\n",
        "# NEXT LINE ONLY FOR COLAB!\n",
        "# %tensorflow_version 2.x\n",
        "import tensorflow as tf\n",
        "import matplotlib.pyplot as plt\n",
        "# COMMENT OUT THIS LINE FOR COLAB!\n",
        "%matplotlib notebook"
      ],
      "execution_count": 1,
      "outputs": []
    },
    {
      "cell_type": "code",
      "metadata": {
        "id": "h9WXpU6Q2qiz",
        "outputId": "8cf56850-62c6-4c2c-83eb-a42f58186f7b",
        "colab": {
          "base_uri": "https://localhost:8080/"
        }
      },
      "source": [
        "print(tf.__version__)"
      ],
      "execution_count": 2,
      "outputs": [
        {
          "output_type": "stream",
          "text": [
            "2.3.0\n"
          ],
          "name": "stdout"
        }
      ]
    },
    {
      "cell_type": "markdown",
      "metadata": {
        "id": "dV7moAUh2qjC"
      },
      "source": [
        "**Disclaimer:** This Notebook heavily depends on the work of Luke Effenberger who held the course last year. You can find his original material under:\n",
        "https://lukeeffenberger.github.io/IANNWTF-2019/"
      ]
    },
    {
      "cell_type": "markdown",
      "metadata": {
        "id": "1ri4Q4Vj2qjD"
      },
      "source": [
        "### Create a simple regression dataset"
      ]
    },
    {
      "cell_type": "code",
      "metadata": {
        "id": "hN3GNCKP2qjG",
        "outputId": "20bba84a-020a-47c9-93b9-7dc013b57b86",
        "colab": {
          "base_uri": "https://localhost:8080/",
          "height": 287
        }
      },
      "source": [
        "training_data_xs = np.linspace(-5,5, 20, dtype=np.float32)\n",
        "def f(x):\n",
        "    return 0.002*(x**3-x**2+2*x)+0.3\n",
        "training_data_ys = np.array([f(x) for x in training_data_xs], dtype=np.float32)\n",
        "\n",
        "\n",
        "\n",
        "plt.scatter(training_data_xs, training_data_ys, c='red')\n",
        "plt.xlim(-5,5)\n",
        "plt.ylim(-0.05,0.6)"
      ],
      "execution_count": 4,
      "outputs": [
        {
          "output_type": "execute_result",
          "data": {
            "text/plain": [
              "(-0.05, 0.6)"
            ]
          },
          "metadata": {
            "tags": []
          },
          "execution_count": 4
        },
        {
          "output_type": "display_data",
          "data": {
            "image/png": "[encoded data removed]",
            "text/plain": [
              "<Figure size 432x288 with 1 Axes>"
            ]
          },
          "metadata": {
            "tags": [],
            "needs_background": "light"
          }
        }
      ]
    },
    {
      "cell_type": "code",
      "metadata": {
        "id": "PgRElnR92qjS",
        "outputId": "5e12d4d4-7c9b-4e81-d5b9-7ec17d1ed03d"
      },
      "source": [
        "# First understand the shape that your data has.\n",
        "print(training_data_xs.shape)\n",
        "print(training_data_ys.shape)"
      ],
      "execution_count": null,
      "outputs": [
        {
          "output_type": "stream",
          "text": [
            "(20,)\n",
            "(20,)\n"
          ],
          "name": "stdout"
        }
      ]
    },
    {
      "cell_type": "markdown",
      "metadata": {
        "id": "HzH_TJPA2qjf"
      },
      "source": [
        "### Build a simple network."
      ]
    },
    {
      "cell_type": "code",
      "metadata": {
        "id": "wyQw614t2qjh"
      },
      "source": [
        "from tensorflow.keras.layers import Layer\n",
        "\n",
        "# Every network is made up of mutiple layers. So layers are the\n",
        "# building blocks. TensorFlow 2.0 comes with many built-in layers, \n",
        "# which you can find here: https://www.tensorflow.org/api_docs/python/tf/keras/layers.\n",
        "# We will start by learning how to build our own custom layers though!\n",
        "\n",
        "# Let' start with a simple linear layer, which basically only \n",
        "# computes the drive. No activation function.\n",
        "\n",
        "# You define a class for a layer. This class inherits from the \n",
        "# general \"Layer\" class.\n",
        "\n",
        "class Linear(Layer):\n",
        "    \"\"\"y = w.x + b\"\"\"\n",
        "    \n",
        "    # In the init-function you call the init of the super class \"Layer\".\n",
        "    # You do not need to understand what the init of the super class does.\n",
        "    # You then specify which parameters your specific layer requires.\n",
        "    def __init__(self, units):\n",
        "        super(Linear, self).__init__()\n",
        "        # A simple linear layer only requires the number of \n",
        "        # \"output\" neurons.\n",
        "        self.units = units\n",
        "        \n",
        "    # In the build function you define which variables your layer\n",
        "    # has. In our case this is the weight matrix and the bias\n",
        "    # vector.\n",
        "    # The \"input_shape\" variable allows you to dynamically define\n",
        "    # how many columns the weight matrix needs.\n",
        "    # The initializer defines how the random values are initialized \n",
        "    # in the beginning.\n",
        "    # With the trainable argument you can specify whether you want the parameters\n",
        "    # to be updated during training.\n",
        "    def build(self, input_shape):\n",
        "        self.w = self.add_weight(\n",
        "                        shape=(input_shape[-1], self.units),\n",
        "                        initializer=tf.random_normal_initializer(),\n",
        "                        trainable=True\n",
        "        )\n",
        "        self.b = self.add_weight(\n",
        "                        shape=(self.units,),\n",
        "                        initializer=tf.random_normal_initializer(),\n",
        "                        trainable=True\n",
        "        )\n",
        "     \n",
        "    # In the call function you define what the layer should\n",
        "    # return based on the given \"inputs\".\n",
        "    def call(self, inputs):\n",
        "        return tf.matmul(inputs, self.w) + self.b"
      ],
      "execution_count": 5,
      "outputs": []
    },
    {
      "cell_type": "code",
      "metadata": {
        "id": "GazR2EDw2qju",
        "outputId": "d353a83b-4b4d-422e-857d-d941c497022e",
        "colab": {
          "base_uri": "https://localhost:8080/"
        }
      },
      "source": [
        "# Now let's see how to use such a layer.\n",
        "# First you have to instantiate it. Let's build a simple layer\n",
        "# with 4 output neurons.\n",
        "\n",
        "linear_layer = Linear(4)\n",
        "\n",
        "# Now we can call it and run it on some input.\n",
        "x = tf.ones((1,4))\n",
        "print(x)\n",
        "y = linear_layer(x)\n",
        "print(y)"
      ],
      "execution_count": 6,
      "outputs": [
        {
          "output_type": "stream",
          "text": [
            "tf.Tensor([[1. 1. 1. 1.]], shape=(1, 4), dtype=float32)\n",
            "tf.Tensor([[ 0.01132835 -0.01539154 -0.12967467  0.07024415]], shape=(1, 4), dtype=float32)\n"
          ],
          "name": "stdout"
        }
      ]
    },
    {
      "cell_type": "code",
      "metadata": {
        "id": "AqFzEsTC2qj3"
      },
      "source": [
        "# We can stack multiple layers onto another to build a deep\n",
        "# neural network. Let' start with a simple MLP with one\n",
        "# hidden layer.\n",
        "\n",
        "from tensorflow.keras.models import Model\n",
        "\n",
        "# Formally we define another layer. So we have to inherit again.\n",
        "class MLP(Model):\n",
        "    \n",
        "    def __init__(self):\n",
        "        # And also call the super init again.\n",
        "        super(MLP, self).__init__()\n",
        "        # Here we only instantiate the layers that our network has.\n",
        "        self.hidden_layer = Linear(512)\n",
        "        self.output_layer = Linear(1)\n",
        "        \n",
        "    # In the call function we define the forward pass of the network.\n",
        "    # ReLU is just a different activation function that we will learn\n",
        "    # about in the next lecture.\n",
        "    def call(self, x):\n",
        "        x = self.hidden_layer(x)\n",
        "        x = tf.nn.relu(x)\n",
        "        x = self.output_layer(x)\n",
        "        return x"
      ],
      "execution_count": 7,
      "outputs": []
    },
    {
      "cell_type": "markdown",
      "metadata": {
        "id": "WCCXypVp2qkD"
      },
      "source": [
        "### Create and call the network."
      ]
    },
    {
      "cell_type": "code",
      "metadata": {
        "id": "NM6cq9kA2qkE",
        "outputId": "02b1afd8-1d4b-4e2d-ddc3-aa39e007ce42",
        "colab": {
          "base_uri": "https://localhost:8080/",
          "height": 269
        }
      },
      "source": [
        "# Here we instantiate the above defined MLP.\n",
        "mlp = MLP()\n",
        "\n",
        "# We have to reshape the input. The input has shape (15,)\n",
        "# because we have 15 samples. But if we feed it like that\n",
        "# the network thinks we feed in one 15-dimensional input. We want 15\n",
        "# 1-dimensional inputs, which would be shape (15,1). \n",
        "# In general the shape of an input should be (batch_size, input_dimension).\n",
        "xs = tf.reshape(training_data_xs, shape=(-1,1))\n",
        "    \n",
        "# calling the network\n",
        "output = mlp(xs)\n",
        " \n",
        "    \n",
        "# let us plot the output of our model against the training data                \n",
        "plt.figure()\n",
        "plt.scatter(training_data_xs,training_data_ys, c='red')\n",
        "\n",
        "                 \n",
        "plt.plot(training_data_xs, output)\n",
        "plt.xlim(-5,5)\n",
        "plt.ylim(-0.05,0.6)\n",
        "plt.show()"
      ],
      "execution_count": 8,
      "outputs": [
        {
          "output_type": "display_data",
          "data": {
            "image/png": "[encoded data removed]",
            "text/plain": [
              "<Figure size 432x288 with 1 Axes>"
            ]
          },
          "metadata": {
            "tags": [],
            "needs_background": "light"
          }
        }
      ]
    },
    {
      "cell_type": "markdown",
      "metadata": {
        "id": "jMjYEnm82qkO"
      },
      "source": [
        "So we can see that our MLP does yet a pretty bad job. Now wonder, we havent' trained it yet. But before we come to that, check out the next section to learn how to define an even bigger MLP in a more simple way."
      ]
    },
    {
      "cell_type": "code",
      "metadata": {
        "id": "SxVjrT3W2qkR"
      },
      "source": [
        ""
      ],
      "execution_count": null,
      "outputs": []
    }
  ]
}