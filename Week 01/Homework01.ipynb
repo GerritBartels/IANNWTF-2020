{
 "cells": [
  {
   "cell_type": "code",
   "execution_count": 10,
   "metadata": {},
   "outputs": [],
   "source": [
    "import numpy as np"
   ]
  },
  {
   "cell_type": "code",
   "execution_count": 11,
   "metadata": {},
   "outputs": [
    {
     "data": {
      "text/plain": [
       "array([   0,    1,    4,    9,   16,   25,   36,   49,   64,   81,  100,\n",
       "        121,  144,  169,  196,  225,  256,  289,  324,  361,  400,  441,\n",
       "        484,  529,  576,  625,  676,  729,  784,  841,  900,  961, 1024,\n",
       "       1089, 1156, 1225, 1296, 1369, 1444, 1521, 1600, 1681, 1764, 1849,\n",
       "       1936, 2025, 2116, 2209, 2304, 2401, 2500, 2601, 2704, 2809, 2916,\n",
       "       3025, 3136, 3249, 3364, 3481, 3600, 3721, 3844, 3969, 4096, 4225,\n",
       "       4356, 4489, 4624, 4761, 4900, 5041, 5184, 5329, 5476, 5625, 5776,\n",
       "       5929, 6084, 6241, 6400, 6561, 6724, 6889, 7056, 7225, 7396, 7569,\n",
       "       7744, 7921, 8100, 8281, 8464, 8649, 8836, 9025, 9216, 9409, 9604,\n",
       "       9801])"
      ]
     },
     "execution_count": 11,
     "metadata": {},
     "output_type": "execute_result"
    }
   ],
   "source": [
    "sqrs = [x**2 for x in range(0,100)]\n",
    "np.array(sqrs)"
   ]
  },
  {
   "cell_type": "code",
   "execution_count": 12,
   "metadata": {},
   "outputs": [
    {
     "data": {
      "text/plain": [
       "array([   0,    4,   16,   36,   64,  100,  144,  196,  256,  324,  400,\n",
       "        484,  576,  676,  784,  900, 1024, 1156, 1296, 1444, 1600, 1764,\n",
       "       1936, 2116, 2304, 2500, 2704, 2916, 3136, 3364, 3600, 3844, 4096,\n",
       "       4356, 4624, 4900, 5184, 5476, 5776, 6084, 6400, 6724, 7056, 7396,\n",
       "       7744, 8100, 8464, 8836, 9216, 9604])"
      ]
     },
     "execution_count": 12,
     "metadata": {},
     "output_type": "execute_result"
    }
   ],
   "source": [
    "sqrs_even = [x**2 for x in range(0,100) if x%2 == 0]\n",
    "np.array(sqrs_even)"
   ]
  },
  {
   "cell_type": "code",
   "execution_count": null,
   "metadata": {},
   "outputs": [],
   "source": [
    "## Generators"
   ]
  },
  {
   "cell_type": "code",
   "execution_count": 45,
   "metadata": {},
   "outputs": [],
   "source": [
    "def meow(n):\n",
    "    num = 1\n",
    "    while num < n:\n",
    "        for i in range(num):\n",
    "            print(\"Meow \", end='')\n",
    "        yield (\"\\n\")\n",
    "        num = num * 2"
   ]
  },
  {
   "cell_type": "code",
   "execution_count": 46,
   "metadata": {
    "scrolled": true
   },
   "outputs": [
    {
     "name": "stdout",
     "output_type": "stream",
     "text": [
      "Meow \n",
      "\n",
      "Meow Meow \n",
      "\n",
      "Meow Meow Meow Meow \n",
      "\n",
      "Meow Meow Meow Meow Meow Meow Meow Meow \n",
      "\n"
     ]
    }
   ],
   "source": [
    "for item in meow(10):\n",
    "    print(item)"
   ]
  },
  {
   "cell_type": "code",
   "execution_count": 79,
   "metadata": {},
   "outputs": [
    {
     "data": {
      "text/plain": [
       "array([[-2.05917707e+00,  2.24107492e-01, -9.62655846e-01,\n",
       "        -1.14408466e-03, -1.56445639e+00],\n",
       "       [-1.37585489e-01, -7.96927139e-01, -8.20367688e-02,\n",
       "         4.34336414e-01,  7.51847345e-02],\n",
       "       [-9.02667199e-01,  4.12257316e-01,  2.14606697e-01,\n",
       "         3.80377179e-01, -4.42667138e-01],\n",
       "       [-4.84615401e-01,  3.04335818e-01, -1.47234656e-01,\n",
       "        -7.47953292e-02,  1.41737460e-01],\n",
       "       [ 3.19283585e-01,  1.18675460e+00,  6.39094334e-01,\n",
       "         4.42046526e-02, -8.22036877e-02]])"
      ]
     },
     "execution_count": 79,
     "metadata": {},
     "output_type": "execute_result"
    }
   ],
   "source": [
    "a = np.random.randn(5,5)\n",
    "a"
   ]
  },
  {
   "cell_type": "code",
   "execution_count": 80,
   "metadata": {},
   "outputs": [
    {
     "data": {
      "text/plain": [
       "array([-0.96265585, -0.08203677,  0.2146067 , -0.14723466,  0.63909433])"
      ]
     },
     "execution_count": 80,
     "metadata": {},
     "output_type": "execute_result"
    }
   ],
   "source": [
    "a[:,2]"
   ]
  },
  {
   "cell_type": "code",
   "execution_count": 81,
   "metadata": {},
   "outputs": [
    {
     "data": {
      "text/plain": [
       "array([-0.08203677,  0.43433641,  0.07518473])"
      ]
     },
     "execution_count": 81,
     "metadata": {},
     "output_type": "execute_result"
    }
   ],
   "source": [
    "a[1,2:]"
   ]
  },
  {
   "cell_type": "code",
   "execution_count": null,
   "metadata": {},
   "outputs": [],
   "source": []
  },
  {
   "cell_type": "code",
   "execution_count": 82,
   "metadata": {},
   "outputs": [
    {
     "data": {
      "text/plain": [
       "array([[42.,  0., 42., -0., 42.],\n",
       "       [-0., 42., -0.,  0.,  0.],\n",
       "       [42.,  0.,  0.,  0., -0.],\n",
       "       [42.,  0., -0., -0.,  0.],\n",
       "       [ 0., 42., 42.,  0., -0.]])"
      ]
     },
     "execution_count": 82,
     "metadata": {},
     "output_type": "execute_result"
    }
   ],
   "source": [
    "a[a**2 > 0.2] = 42\n",
    "np.round(a)"
   ]
  },
  {
   "cell_type": "code",
   "execution_count": 83,
   "metadata": {},
   "outputs": [
    {
     "data": {
      "text/plain": [
       "array([42.        , -0.08203677,  0.2146067 , -0.14723466, 42.        ])"
      ]
     },
     "execution_count": 83,
     "metadata": {},
     "output_type": "execute_result"
    }
   ],
   "source": [
    "a[:,2]"
   ]
  },
  {
   "cell_type": "code",
   "execution_count": null,
   "metadata": {},
   "outputs": [],
   "source": []
  }
 ],
 "metadata": {
  "kernelspec": {
   "display_name": "Python 3",
   "language": "python",
   "name": "python3"
  },
  "language_info": {
   "codemirror_mode": {
    "name": "ipython",
    "version": 3
   },
   "file_extension": ".py",
   "mimetype": "text/x-python",
   "name": "python",
   "nbconvert_exporter": "python",
   "pygments_lexer": "ipython3",
   "version": "3.7.9"
  }
 },
 "nbformat": 4,
 "nbformat_minor": 4
}
