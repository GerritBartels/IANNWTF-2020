{
  "nbformat": 4,
  "nbformat_minor": 0,
  "metadata": {
    "colab": {
      "name": "FlippedClassroom03_solution.ipynb",
      "provenance": [],
      "include_colab_link": true
    },
    "kernelspec": {
      "display_name": "Python 3",
      "language": "python",
      "name": "python3"
    },
    "language_info": {
      "codemirror_mode": {
        "name": "ipython",
        "version": 3
      },
      "file_extension": ".py",
      "mimetype": "text/x-python",
      "name": "python",
      "nbconvert_exporter": "python",
      "pygments_lexer": "ipython3",
      "version": "3.6.12"
    }
  },
  "cells": [
    {
      "cell_type": "markdown",
      "metadata": {
        "id": "view-in-github",
        "colab_type": "text"
      },
      "source": [
        "<a href=\"https://colab.research.google.com/github/anniewit/IANNWTF-2020/blob/main/FlippedClassroom03_solution.ipynb\" target=\"_parent\"><img src=\"https://colab.research.google.com/assets/colab-badge.svg\" alt=\"Open In Colab\"/></a>"
      ]
    },
    {
      "cell_type": "code",
      "metadata": {
        "id": "rU1Jsm5I2qiq"
      },
      "source": [
        "import numpy as np\n",
        "# NEXT LINE ONLY FOR COLAB!\n",
        "# %tensorflow_version 2.x\n",
        "import tensorflow as tf\n",
        "import matplotlib.pyplot as plt\n",
        "# COMMENT OUT THIS LINE FOR COLAB!\n",
        "#%matplotlib notebook"
      ],
      "execution_count": 27,
      "outputs": []
    },
    {
      "cell_type": "code",
      "metadata": {
        "id": "h9WXpU6Q2qiz",
        "outputId": "d644794c-9a9e-4221-8f6e-086d14b6022d",
        "colab": {
          "base_uri": "https://localhost:8080/"
        }
      },
      "source": [
        "print(tf.__version__)"
      ],
      "execution_count": 28,
      "outputs": [
        {
          "output_type": "stream",
          "text": [
            "2.3.0\n"
          ],
          "name": "stdout"
        }
      ]
    },
    {
      "cell_type": "markdown",
      "metadata": {
        "id": "dV7moAUh2qjC"
      },
      "source": [
        "**Disclaimer:** This Notebook heavily depends on the work of Luke Effenberger who held the course last year. You can find his original material under:\n",
        "https://lukeeffenberger.github.io/IANNWTF-2019/"
      ]
    },
    {
      "cell_type": "markdown",
      "metadata": {
        "id": "sxkg2fULYA2I"
      },
      "source": [
        "# Flipped Classroom Session 12.11.20\n",
        "#### Here are the solutions of the notebook we worked on during the session. The notebook can be found here: https://colab.research.google.com/github/anniewit/IANNWTF-2020/blob/main/Simple_MLP_Practise.ipynb \n",
        "\n",
        "#### We recommend first working through the notebook and then coming back here to check the solutions."
      ]
    },
    {
      "cell_type": "markdown",
      "metadata": {
        "id": "1ri4Q4Vj2qjD"
      },
      "source": [
        "### Create a simple regression dataset"
      ]
    },
    {
      "cell_type": "code",
      "metadata": {
        "id": "hN3GNCKP2qjG",
        "outputId": "d770aecf-cf31-41ae-d995-e9f195165e95",
        "colab": {
          "base_uri": "https://localhost:8080/",
          "height": 265
        }
      },
      "source": [
        "xs = np.linspace(-5,5, 200, dtype=np.float32)\n",
        "def f(x):\n",
        "    return 0.02*(x**3-x**2+2*x)+0.3\n",
        "ys = np.array([f(x) for x in xs], dtype=np.float32)\n",
        "\n",
        "training_data_ids = np.random.choice(200,150, replace=False)\n",
        "test_data_ids = np.array([i if i not in training_data_ids else 999 for i in range(200)])\n",
        "test_data_ids = test_data_ids[test_data_ids < 201]\n",
        "training_data_xs = xs[training_data_ids]\n",
        "training_data_ys = ys[training_data_ids]\n",
        "test_data_xs = xs[test_data_ids]\n",
        "test_data_ys = ys[test_data_ids]\n",
        "\n",
        "plt.scatter(training_data_xs, training_data_ys, c='red')\n",
        "plt.scatter(test_data_xs, test_data_ys, c='blue')\n",
        "plt.legend((\"Training Data\",\"Test Data\"))\n",
        "plt.xlim(-5,5)\n",
        "plt.show()"
      ],
      "execution_count": 29,
      "outputs": [
        {
          "output_type": "display_data",
          "data": {
            "image/png": "[encoded data removed]",
            "text/plain": [
              "<Figure size 432x288 with 1 Axes>"
            ]
          },
          "metadata": {
            "tags": [],
            "needs_background": "light"
          }
        }
      ]
    },
    {
      "cell_type": "code",
      "metadata": {
        "id": "PgRElnR92qjS",
        "outputId": "c3fe6eb0-92b9-4896-c83b-d61e7be18085",
        "colab": {
          "base_uri": "https://localhost:8080/"
        }
      },
      "source": [
        "# First understand the shape that your data has.\n",
        "print(training_data_xs.shape)\n",
        "print(training_data_ys.shape)\n",
        "print(test_data_xs.shape)\n",
        "print(test_data_ys.shape)"
      ],
      "execution_count": 30,
      "outputs": [
        {
          "output_type": "stream",
          "text": [
            "(150,)\n",
            "(150,)\n",
            "(50,)\n",
            "(50,)\n"
          ],
          "name": "stdout"
        }
      ]
    },
    {
      "cell_type": "code",
      "metadata": {
        "id": "3u8yTCw4-Yrn"
      },
      "source": [
        "# It is easiest to use this dataset with TensorFlow by converting\n",
        "# it to a tf.data.Dataset (https://www.tensorflow.org/api_docs/python/tf/data/Dataset).\n",
        "# If, as in our case, you want to convert Numpy Arrays into a dataset\n",
        "# use tf.data.Dataset.from_tensor_sclices\n",
        "\n",
        "train_dataset_xs = tf.data.Dataset.from_tensor_slices(training_data_xs)\n",
        "train_dataset_xs = train_dataset_xs.map(lambda x: tf.reshape(x, (-1,)))\n",
        "train_dataset_ys = tf.data.Dataset.from_tensor_slices(training_data_ys)\n",
        "\n",
        "train_dataset = tf.data.Dataset.zip((train_dataset_xs, train_dataset_ys))\n",
        "train_dataset = train_dataset.batch(20)\n",
        "train_dataset = train_dataset.shuffle(buffer_size=128)\n",
        "\n",
        "\n",
        "\n",
        "test_dataset_xs = tf.data.Dataset.from_tensor_slices(test_data_xs)\n",
        "test_dataset_xs = test_dataset_xs.map(lambda x: tf.reshape(x, (-1,1)))\n",
        "test_dataset_ys = tf.data.Dataset.from_tensor_slices(test_data_ys)\n",
        "\n",
        "\n",
        "test_dataset = tf.data.Dataset.zip((test_dataset_xs, test_dataset_ys))\n"
      ],
      "execution_count": 31,
      "outputs": []
    },
    {
      "cell_type": "code",
      "metadata": {
        "id": "o91n4som-Yrr",
        "outputId": "d809e1e3-b229-44f7-b320-86808c52cd91",
        "colab": {
          "base_uri": "https://localhost:8080/"
        }
      },
      "source": [
        "for (x,y) in train_dataset:\n",
        "    print(x.shape)"
      ],
      "execution_count": 32,
      "outputs": [
        {
          "output_type": "stream",
          "text": [
            "(20, 1)\n",
            "(20, 1)\n",
            "(20, 1)\n",
            "(10, 1)\n",
            "(20, 1)\n",
            "(20, 1)\n",
            "(20, 1)\n",
            "(20, 1)\n"
          ],
          "name": "stdout"
        }
      ]
    },
    {
      "cell_type": "markdown",
      "metadata": {
        "id": "HzH_TJPA2qjf"
      },
      "source": [
        "### Build a simple network."
      ]
    },
    {
      "cell_type": "code",
      "metadata": {
        "id": "wyQw614t2qjh"
      },
      "source": [
        "from tensorflow.keras import Model\n",
        "from tensorflow.keras.layers import Layer\n",
        "\n",
        "class Model(Model): \n",
        "    \n",
        "    def __init__(self):\n",
        "        super(Model, self).__init__()\n",
        "        # Define the hidden layer\n",
        "        self.hidden_layer_1 = tf.keras.layers.Dense(units=256,\n",
        "                                               activation=tf.keras.activations.relu\n",
        "                                               )\n",
        "        self.hidden_layer_2 = tf.keras.layers.Dense(units=256,\n",
        "                                               activation=tf.keras.activations.relu\n",
        "                                               )                              \n",
        "        self.output_layer = tf.keras.layers.Dense(units=1, use_bias=False)\n",
        "                                               \n",
        "       \n",
        "    def call(self, x):\n",
        "        # Define the forward step.\n",
        "        x = self.hidden_layer_1(x)\n",
        "        x = self.hidden_layer_2(x)\n",
        "        x = self.output_layer(x)\n",
        "        return x"
      ],
      "execution_count": 33,
      "outputs": []
    },
    {
      "cell_type": "markdown",
      "metadata": {
        "id": "AqFzEsTC2qj3"
      },
      "source": [
        "### Define Training and Testing Steps."
      ]
    },
    {
      "cell_type": "code",
      "metadata": {
        "id": "1Zt1gj5Z-Yr2"
      },
      "source": [
        "def train_step(model, input, target, loss_function, optimizer):\n",
        "    # loss_object and optimizer_object are instances of respective tensorflow classes\n",
        "    with tf.GradientTape() as tape:\n",
        "        prediction = model(input)\n",
        "        loss = loss_function(target, prediction)\n",
        "        gradients = tape.gradient(loss, model.trainable_variables)\n",
        "    optimizer.apply_gradients(zip(gradients, model.trainable_variables))\n",
        "    return loss \n",
        "\n",
        "def test(model, test_data, loss_function):\n",
        "    # test over complete test data\n",
        "\n",
        "    test_loss_aggregator = []\n",
        "\n",
        "    for (input, target) in test_data:\n",
        "        prediction = model(input)\n",
        "        sample_test_loss = loss_function(target, prediction)\n",
        "        test_loss_aggregator.append(sample_test_loss.numpy())\n",
        "\n",
        "    test_loss = np.mean(test_loss_aggregator)\n",
        "\n",
        "    return test_loss\n",
        "  \n",
        "\n"
      ],
      "execution_count": 34,
      "outputs": []
    },
    {
      "cell_type": "markdown",
      "metadata": {
        "id": "WCCXypVp2qkD"
      },
      "source": [
        "### Training Loop"
      ]
    },
    {
      "cell_type": "code",
      "metadata": {
        "id": "IJihal4DIdIA",
        "outputId": "eaf49009-6620-43a0-cdc9-4f861846ec4c",
        "colab": {
          "base_uri": "https://localhost:8080/"
        }
      },
      "source": [
        "tf.keras.backend.clear_session()\n",
        "\n",
        "### Hyperparameters\n",
        "num_epochs = 250\n",
        "learning_rate = 0.01\n",
        "running_average_factor = 0.95\n",
        "\n",
        "# Initialize the model.\n",
        "model = Model()\n",
        "# Initialize the loss: categorical cross entropy. Check out 'tf.keras.losses'.\n",
        "mse = tf.keras.losses.MeanSquaredError()\n",
        "# Initialize the optimizer: Adam with default parameters. Check out 'tf.keras.optimizers'\n",
        "optimizer = tf.keras.optimizers.SGD(learning_rate)\n",
        "\n",
        "# Initialize lists for later visualization.\n",
        "train_losses = []\n",
        "\n",
        "test_losses = []\n",
        "\n",
        "#testing once before we begin\n",
        "test_loss = test(model, test_dataset, mse)\n",
        "test_losses.append(test_loss)\n",
        "\n",
        "\n",
        "#check how model performs on train data once before we begin\n",
        "train_loss = test(model, train_dataset, mse)\n",
        "train_losses.append(train_loss)\n",
        "\n",
        "# We train for num_epochs epochs.\n",
        "for epoch in range(num_epochs):\n",
        "    print('Epoch: __ ' + str(epoch))\n",
        "\n",
        "    train_dataset = train_dataset.shuffle(buffer_size=128)\n",
        "    test_dataset = test_dataset.shuffle(buffer_size=128)\n",
        "\n",
        "    #training (and checking in with training)\n",
        "    running_average = 0\n",
        "    for (input,target) in train_dataset:\n",
        "        train_loss = train_step(model, input, target, mse, optimizer)\n",
        "        running_average = running_average_factor * running_average  + (1 - running_average_factor) * train_loss\n",
        "    train_losses.append(running_average)\n",
        "\n",
        "    #testing\n",
        "    test_loss = test(model, test_dataset, mse)\n",
        "    test_losses.append(test_loss)"
      ],
      "execution_count": 35,
      "outputs": [
        {
          "output_type": "stream",
          "text": [
            "Epoch: __ 0\n",
            "Epoch: __ 1\n",
            "Epoch: __ 2\n",
            "Epoch: __ 3\n",
            "Epoch: __ 4\n",
            "Epoch: __ 5\n",
            "Epoch: __ 6\n",
            "Epoch: __ 7\n",
            "Epoch: __ 8\n",
            "Epoch: __ 9\n",
            "Epoch: __ 10\n",
            "Epoch: __ 11\n",
            "Epoch: __ 12\n",
            "Epoch: __ 13\n",
            "Epoch: __ 14\n",
            "Epoch: __ 15\n",
            "Epoch: __ 16\n",
            "Epoch: __ 17\n",
            "Epoch: __ 18\n",
            "Epoch: __ 19\n",
            "Epoch: __ 20\n",
            "Epoch: __ 21\n",
            "Epoch: __ 22\n",
            "Epoch: __ 23\n",
            "Epoch: __ 24\n",
            "Epoch: __ 25\n",
            "Epoch: __ 26\n",
            "Epoch: __ 27\n",
            "Epoch: __ 28\n",
            "Epoch: __ 29\n",
            "Epoch: __ 30\n",
            "Epoch: __ 31\n",
            "Epoch: __ 32\n",
            "Epoch: __ 33\n",
            "Epoch: __ 34\n",
            "Epoch: __ 35\n",
            "Epoch: __ 36\n",
            "Epoch: __ 37\n",
            "Epoch: __ 38\n",
            "Epoch: __ 39\n",
            "Epoch: __ 40\n",
            "Epoch: __ 41\n",
            "Epoch: __ 42\n",
            "Epoch: __ 43\n",
            "Epoch: __ 44\n",
            "Epoch: __ 45\n",
            "Epoch: __ 46\n",
            "Epoch: __ 47\n",
            "Epoch: __ 48\n",
            "Epoch: __ 49\n",
            "Epoch: __ 50\n",
            "Epoch: __ 51\n",
            "Epoch: __ 52\n",
            "Epoch: __ 53\n",
            "Epoch: __ 54\n",
            "Epoch: __ 55\n",
            "Epoch: __ 56\n",
            "Epoch: __ 57\n",
            "Epoch: __ 58\n",
            "Epoch: __ 59\n",
            "Epoch: __ 60\n",
            "Epoch: __ 61\n",
            "Epoch: __ 62\n",
            "Epoch: __ 63\n",
            "Epoch: __ 64\n",
            "Epoch: __ 65\n",
            "Epoch: __ 66\n",
            "Epoch: __ 67\n",
            "Epoch: __ 68\n",
            "Epoch: __ 69\n",
            "Epoch: __ 70\n",
            "Epoch: __ 71\n",
            "Epoch: __ 72\n",
            "Epoch: __ 73\n",
            "Epoch: __ 74\n",
            "Epoch: __ 75\n",
            "Epoch: __ 76\n",
            "Epoch: __ 77\n",
            "Epoch: __ 78\n",
            "Epoch: __ 79\n",
            "Epoch: __ 80\n",
            "Epoch: __ 81\n",
            "Epoch: __ 82\n",
            "Epoch: __ 83\n",
            "Epoch: __ 84\n",
            "Epoch: __ 85\n",
            "Epoch: __ 86\n",
            "Epoch: __ 87\n",
            "Epoch: __ 88\n",
            "Epoch: __ 89\n",
            "Epoch: __ 90\n",
            "Epoch: __ 91\n",
            "Epoch: __ 92\n",
            "Epoch: __ 93\n",
            "Epoch: __ 94\n",
            "Epoch: __ 95\n",
            "Epoch: __ 96\n",
            "Epoch: __ 97\n",
            "Epoch: __ 98\n",
            "Epoch: __ 99\n",
            "Epoch: __ 100\n",
            "Epoch: __ 101\n",
            "Epoch: __ 102\n",
            "Epoch: __ 103\n",
            "Epoch: __ 104\n",
            "Epoch: __ 105\n",
            "Epoch: __ 106\n",
            "Epoch: __ 107\n",
            "Epoch: __ 108\n",
            "Epoch: __ 109\n",
            "Epoch: __ 110\n",
            "Epoch: __ 111\n",
            "Epoch: __ 112\n",
            "Epoch: __ 113\n",
            "Epoch: __ 114\n",
            "Epoch: __ 115\n",
            "Epoch: __ 116\n",
            "Epoch: __ 117\n",
            "Epoch: __ 118\n",
            "Epoch: __ 119\n",
            "Epoch: __ 120\n",
            "Epoch: __ 121\n",
            "Epoch: __ 122\n",
            "Epoch: __ 123\n",
            "Epoch: __ 124\n",
            "Epoch: __ 125\n",
            "Epoch: __ 126\n",
            "Epoch: __ 127\n",
            "Epoch: __ 128\n",
            "Epoch: __ 129\n",
            "Epoch: __ 130\n",
            "Epoch: __ 131\n",
            "Epoch: __ 132\n",
            "Epoch: __ 133\n",
            "Epoch: __ 134\n",
            "Epoch: __ 135\n",
            "Epoch: __ 136\n",
            "Epoch: __ 137\n",
            "Epoch: __ 138\n",
            "Epoch: __ 139\n",
            "Epoch: __ 140\n",
            "Epoch: __ 141\n",
            "Epoch: __ 142\n",
            "Epoch: __ 143\n",
            "Epoch: __ 144\n",
            "Epoch: __ 145\n",
            "Epoch: __ 146\n",
            "Epoch: __ 147\n",
            "Epoch: __ 148\n",
            "Epoch: __ 149\n",
            "Epoch: __ 150\n",
            "Epoch: __ 151\n",
            "Epoch: __ 152\n",
            "Epoch: __ 153\n",
            "Epoch: __ 154\n",
            "Epoch: __ 155\n",
            "Epoch: __ 156\n",
            "Epoch: __ 157\n",
            "Epoch: __ 158\n",
            "Epoch: __ 159\n",
            "Epoch: __ 160\n",
            "Epoch: __ 161\n",
            "Epoch: __ 162\n",
            "Epoch: __ 163\n",
            "Epoch: __ 164\n",
            "Epoch: __ 165\n",
            "Epoch: __ 166\n",
            "Epoch: __ 167\n",
            "Epoch: __ 168\n",
            "Epoch: __ 169\n",
            "Epoch: __ 170\n",
            "Epoch: __ 171\n",
            "Epoch: __ 172\n",
            "Epoch: __ 173\n",
            "Epoch: __ 174\n",
            "Epoch: __ 175\n",
            "Epoch: __ 176\n",
            "Epoch: __ 177\n",
            "Epoch: __ 178\n",
            "Epoch: __ 179\n",
            "Epoch: __ 180\n",
            "Epoch: __ 181\n",
            "Epoch: __ 182\n",
            "Epoch: __ 183\n",
            "Epoch: __ 184\n",
            "Epoch: __ 185\n",
            "Epoch: __ 186\n",
            "Epoch: __ 187\n",
            "Epoch: __ 188\n",
            "Epoch: __ 189\n",
            "Epoch: __ 190\n",
            "Epoch: __ 191\n",
            "Epoch: __ 192\n",
            "Epoch: __ 193\n",
            "Epoch: __ 194\n",
            "Epoch: __ 195\n",
            "Epoch: __ 196\n",
            "Epoch: __ 197\n",
            "Epoch: __ 198\n",
            "Epoch: __ 199\n",
            "Epoch: __ 200\n",
            "Epoch: __ 201\n",
            "Epoch: __ 202\n",
            "Epoch: __ 203\n",
            "Epoch: __ 204\n",
            "Epoch: __ 205\n",
            "Epoch: __ 206\n",
            "Epoch: __ 207\n",
            "Epoch: __ 208\n",
            "Epoch: __ 209\n",
            "Epoch: __ 210\n",
            "Epoch: __ 211\n",
            "Epoch: __ 212\n",
            "Epoch: __ 213\n",
            "Epoch: __ 214\n",
            "Epoch: __ 215\n",
            "Epoch: __ 216\n",
            "Epoch: __ 217\n",
            "Epoch: __ 218\n",
            "Epoch: __ 219\n",
            "Epoch: __ 220\n",
            "Epoch: __ 221\n",
            "Epoch: __ 222\n",
            "Epoch: __ 223\n",
            "Epoch: __ 224\n",
            "Epoch: __ 225\n",
            "Epoch: __ 226\n",
            "Epoch: __ 227\n",
            "Epoch: __ 228\n",
            "Epoch: __ 229\n",
            "Epoch: __ 230\n",
            "Epoch: __ 231\n",
            "Epoch: __ 232\n",
            "Epoch: __ 233\n",
            "Epoch: __ 234\n",
            "Epoch: __ 235\n",
            "Epoch: __ 236\n",
            "Epoch: __ 237\n",
            "Epoch: __ 238\n",
            "Epoch: __ 239\n",
            "Epoch: __ 240\n",
            "Epoch: __ 241\n",
            "Epoch: __ 242\n",
            "Epoch: __ 243\n",
            "Epoch: __ 244\n",
            "Epoch: __ 245\n",
            "Epoch: __ 246\n",
            "Epoch: __ 247\n",
            "Epoch: __ 248\n",
            "Epoch: __ 249\n"
          ],
          "name": "stdout"
        }
      ]
    },
    {
      "cell_type": "code",
      "metadata": {
        "id": "WKJugJuuGgHa",
        "outputId": "d26d1def-9d98-41da-babf-d596d04d1626",
        "colab": {
          "base_uri": "https://localhost:8080/"
        }
      },
      "source": [
        "print(train_losses)"
      ],
      "execution_count": 36,
      "outputs": [
        {
          "output_type": "stream",
          "text": [
            "[0.99302787, <tf.Tensor: shape=(), dtype=float32, numpy=0.17079999>, <tf.Tensor: shape=(), dtype=float32, numpy=0.069715455>, <tf.Tensor: shape=(), dtype=float32, numpy=0.060603417>, <tf.Tensor: shape=(), dtype=float32, numpy=0.05870924>, <tf.Tensor: shape=(), dtype=float32, numpy=0.0557013>, <tf.Tensor: shape=(), dtype=float32, numpy=0.054478213>, <tf.Tensor: shape=(), dtype=float32, numpy=0.05338975>, <tf.Tensor: shape=(), dtype=float32, numpy=0.052517176>, <tf.Tensor: shape=(), dtype=float32, numpy=0.050142568>, <tf.Tensor: shape=(), dtype=float32, numpy=0.04923265>, <tf.Tensor: shape=(), dtype=float32, numpy=0.047729474>, <tf.Tensor: shape=(), dtype=float32, numpy=0.04610573>, <tf.Tensor: shape=(), dtype=float32, numpy=0.044211775>, <tf.Tensor: shape=(), dtype=float32, numpy=0.04403522>, <tf.Tensor: shape=(), dtype=float32, numpy=0.042555947>, <tf.Tensor: shape=(), dtype=float32, numpy=0.04152382>, <tf.Tensor: shape=(), dtype=float32, numpy=0.04031186>, <tf.Tensor: shape=(), dtype=float32, numpy=0.038149234>, <tf.Tensor: shape=(), dtype=float32, numpy=0.037297297>, <tf.Tensor: shape=(), dtype=float32, numpy=0.037162103>, <tf.Tensor: shape=(), dtype=float32, numpy=0.036004607>, <tf.Tensor: shape=(), dtype=float32, numpy=0.036093734>, <tf.Tensor: shape=(), dtype=float32, numpy=0.034571987>, <tf.Tensor: shape=(), dtype=float32, numpy=0.034562882>, <tf.Tensor: shape=(), dtype=float32, numpy=0.033509415>, <tf.Tensor: shape=(), dtype=float32, numpy=0.03141623>, <tf.Tensor: shape=(), dtype=float32, numpy=0.032745056>, <tf.Tensor: shape=(), dtype=float32, numpy=0.030477716>, <tf.Tensor: shape=(), dtype=float32, numpy=0.030843534>, <tf.Tensor: shape=(), dtype=float32, numpy=0.030405309>, <tf.Tensor: shape=(), dtype=float32, numpy=0.029479656>, <tf.Tensor: shape=(), dtype=float32, numpy=0.029015915>, <tf.Tensor: shape=(), dtype=float32, numpy=0.028690502>, <tf.Tensor: shape=(), dtype=float32, numpy=0.028405111>, <tf.Tensor: shape=(), dtype=float32, numpy=0.027529405>, <tf.Tensor: shape=(), dtype=float32, numpy=0.027206697>, <tf.Tensor: shape=(), dtype=float32, numpy=0.027509699>, <tf.Tensor: shape=(), dtype=float32, numpy=0.025999025>, <tf.Tensor: shape=(), dtype=float32, numpy=0.025587048>, <tf.Tensor: shape=(), dtype=float32, numpy=0.025600474>, <tf.Tensor: shape=(), dtype=float32, numpy=0.025303489>, <tf.Tensor: shape=(), dtype=float32, numpy=0.025315674>, <tf.Tensor: shape=(), dtype=float32, numpy=0.024411133>, <tf.Tensor: shape=(), dtype=float32, numpy=0.023863617>, <tf.Tensor: shape=(), dtype=float32, numpy=0.023821305>, <tf.Tensor: shape=(), dtype=float32, numpy=0.023770079>, <tf.Tensor: shape=(), dtype=float32, numpy=0.023494067>, <tf.Tensor: shape=(), dtype=float32, numpy=0.022297876>, <tf.Tensor: shape=(), dtype=float32, numpy=0.022972614>, <tf.Tensor: shape=(), dtype=float32, numpy=0.022156563>, <tf.Tensor: shape=(), dtype=float32, numpy=0.021735398>, <tf.Tensor: shape=(), dtype=float32, numpy=0.021661036>, <tf.Tensor: shape=(), dtype=float32, numpy=0.021396112>, <tf.Tensor: shape=(), dtype=float32, numpy=0.020857302>, <tf.Tensor: shape=(), dtype=float32, numpy=0.021101277>, <tf.Tensor: shape=(), dtype=float32, numpy=0.02157608>, <tf.Tensor: shape=(), dtype=float32, numpy=0.020095093>, <tf.Tensor: shape=(), dtype=float32, numpy=0.020952914>, <tf.Tensor: shape=(), dtype=float32, numpy=0.020344183>, <tf.Tensor: shape=(), dtype=float32, numpy=0.020335613>, <tf.Tensor: shape=(), dtype=float32, numpy=0.019861877>, <tf.Tensor: shape=(), dtype=float32, numpy=0.019392762>, <tf.Tensor: shape=(), dtype=float32, numpy=0.019451307>, <tf.Tensor: shape=(), dtype=float32, numpy=0.019517269>, <tf.Tensor: shape=(), dtype=float32, numpy=0.019214328>, <tf.Tensor: shape=(), dtype=float32, numpy=0.019197118>, <tf.Tensor: shape=(), dtype=float32, numpy=0.019288164>, <tf.Tensor: shape=(), dtype=float32, numpy=0.018140757>, <tf.Tensor: shape=(), dtype=float32, numpy=0.018817585>, <tf.Tensor: shape=(), dtype=float32, numpy=0.018256856>, <tf.Tensor: shape=(), dtype=float32, numpy=0.017846847>, <tf.Tensor: shape=(), dtype=float32, numpy=0.017836586>, <tf.Tensor: shape=(), dtype=float32, numpy=0.017971415>, <tf.Tensor: shape=(), dtype=float32, numpy=0.017397895>, <tf.Tensor: shape=(), dtype=float32, numpy=0.017582111>, <tf.Tensor: shape=(), dtype=float32, numpy=0.016816711>, <tf.Tensor: shape=(), dtype=float32, numpy=0.017030636>, <tf.Tensor: shape=(), dtype=float32, numpy=0.016396862>, <tf.Tensor: shape=(), dtype=float32, numpy=0.01620469>, <tf.Tensor: shape=(), dtype=float32, numpy=0.01689833>, <tf.Tensor: shape=(), dtype=float32, numpy=0.016412467>, <tf.Tensor: shape=(), dtype=float32, numpy=0.016422683>, <tf.Tensor: shape=(), dtype=float32, numpy=0.016291656>, <tf.Tensor: shape=(), dtype=float32, numpy=0.015484304>, <tf.Tensor: shape=(), dtype=float32, numpy=0.016113771>, <tf.Tensor: shape=(), dtype=float32, numpy=0.015454197>, <tf.Tensor: shape=(), dtype=float32, numpy=0.015620746>, <tf.Tensor: shape=(), dtype=float32, numpy=0.014941933>, <tf.Tensor: shape=(), dtype=float32, numpy=0.015135164>, <tf.Tensor: shape=(), dtype=float32, numpy=0.014672744>, <tf.Tensor: shape=(), dtype=float32, numpy=0.014833648>, <tf.Tensor: shape=(), dtype=float32, numpy=0.014969862>, <tf.Tensor: shape=(), dtype=float32, numpy=0.014725523>, <tf.Tensor: shape=(), dtype=float32, numpy=0.014888031>, <tf.Tensor: shape=(), dtype=float32, numpy=0.014335179>, <tf.Tensor: shape=(), dtype=float32, numpy=0.014396471>, <tf.Tensor: shape=(), dtype=float32, numpy=0.01385635>, <tf.Tensor: shape=(), dtype=float32, numpy=0.013778722>, <tf.Tensor: shape=(), dtype=float32, numpy=0.0139623005>, <tf.Tensor: shape=(), dtype=float32, numpy=0.013468602>, <tf.Tensor: shape=(), dtype=float32, numpy=0.013308864>, <tf.Tensor: shape=(), dtype=float32, numpy=0.013935063>, <tf.Tensor: shape=(), dtype=float32, numpy=0.013644949>, <tf.Tensor: shape=(), dtype=float32, numpy=0.013380911>, <tf.Tensor: shape=(), dtype=float32, numpy=0.0135580115>, <tf.Tensor: shape=(), dtype=float32, numpy=0.013173864>, <tf.Tensor: shape=(), dtype=float32, numpy=0.013473054>, <tf.Tensor: shape=(), dtype=float32, numpy=0.0129828695>, <tf.Tensor: shape=(), dtype=float32, numpy=0.012689776>, <tf.Tensor: shape=(), dtype=float32, numpy=0.012740089>, <tf.Tensor: shape=(), dtype=float32, numpy=0.012868982>, <tf.Tensor: shape=(), dtype=float32, numpy=0.011928814>, <tf.Tensor: shape=(), dtype=float32, numpy=0.012221312>, <tf.Tensor: shape=(), dtype=float32, numpy=0.012369933>, <tf.Tensor: shape=(), dtype=float32, numpy=0.01248707>, <tf.Tensor: shape=(), dtype=float32, numpy=0.0120306015>, <tf.Tensor: shape=(), dtype=float32, numpy=0.012066045>, <tf.Tensor: shape=(), dtype=float32, numpy=0.011785357>, <tf.Tensor: shape=(), dtype=float32, numpy=0.0112611335>, <tf.Tensor: shape=(), dtype=float32, numpy=0.011730573>, <tf.Tensor: shape=(), dtype=float32, numpy=0.01138649>, <tf.Tensor: shape=(), dtype=float32, numpy=0.011695137>, <tf.Tensor: shape=(), dtype=float32, numpy=0.0115926545>, <tf.Tensor: shape=(), dtype=float32, numpy=0.0113431>, <tf.Tensor: shape=(), dtype=float32, numpy=0.010859554>, <tf.Tensor: shape=(), dtype=float32, numpy=0.011085025>, <tf.Tensor: shape=(), dtype=float32, numpy=0.011114019>, <tf.Tensor: shape=(), dtype=float32, numpy=0.010839865>, <tf.Tensor: shape=(), dtype=float32, numpy=0.010479054>, <tf.Tensor: shape=(), dtype=float32, numpy=0.010416545>, <tf.Tensor: shape=(), dtype=float32, numpy=0.010340223>, <tf.Tensor: shape=(), dtype=float32, numpy=0.010154004>, <tf.Tensor: shape=(), dtype=float32, numpy=0.010144634>, <tf.Tensor: shape=(), dtype=float32, numpy=0.010491785>, <tf.Tensor: shape=(), dtype=float32, numpy=0.010159426>, <tf.Tensor: shape=(), dtype=float32, numpy=0.010374451>, <tf.Tensor: shape=(), dtype=float32, numpy=0.009816481>, <tf.Tensor: shape=(), dtype=float32, numpy=0.010136012>, <tf.Tensor: shape=(), dtype=float32, numpy=0.009794775>, <tf.Tensor: shape=(), dtype=float32, numpy=0.009764262>, <tf.Tensor: shape=(), dtype=float32, numpy=0.0097879805>, <tf.Tensor: shape=(), dtype=float32, numpy=0.00973709>, <tf.Tensor: shape=(), dtype=float32, numpy=0.009472955>, <tf.Tensor: shape=(), dtype=float32, numpy=0.00927401>, <tf.Tensor: shape=(), dtype=float32, numpy=0.0091950875>, <tf.Tensor: shape=(), dtype=float32, numpy=0.009422273>, <tf.Tensor: shape=(), dtype=float32, numpy=0.009075962>, <tf.Tensor: shape=(), dtype=float32, numpy=0.008897713>, <tf.Tensor: shape=(), dtype=float32, numpy=0.009108172>, <tf.Tensor: shape=(), dtype=float32, numpy=0.009132625>, <tf.Tensor: shape=(), dtype=float32, numpy=0.008708212>, <tf.Tensor: shape=(), dtype=float32, numpy=0.008974803>, <tf.Tensor: shape=(), dtype=float32, numpy=0.0089932>, <tf.Tensor: shape=(), dtype=float32, numpy=0.00852302>, <tf.Tensor: shape=(), dtype=float32, numpy=0.008613339>, <tf.Tensor: shape=(), dtype=float32, numpy=0.008471522>, <tf.Tensor: shape=(), dtype=float32, numpy=0.00881842>, <tf.Tensor: shape=(), dtype=float32, numpy=0.008369877>, <tf.Tensor: shape=(), dtype=float32, numpy=0.008248595>, <tf.Tensor: shape=(), dtype=float32, numpy=0.008113349>, <tf.Tensor: shape=(), dtype=float32, numpy=0.008140312>, <tf.Tensor: shape=(), dtype=float32, numpy=0.008192312>, <tf.Tensor: shape=(), dtype=float32, numpy=0.0079495385>, <tf.Tensor: shape=(), dtype=float32, numpy=0.008207471>, <tf.Tensor: shape=(), dtype=float32, numpy=0.008206297>, <tf.Tensor: shape=(), dtype=float32, numpy=0.007922818>, <tf.Tensor: shape=(), dtype=float32, numpy=0.0077984333>, <tf.Tensor: shape=(), dtype=float32, numpy=0.007998792>, <tf.Tensor: shape=(), dtype=float32, numpy=0.0077761663>, <tf.Tensor: shape=(), dtype=float32, numpy=0.0079265395>, <tf.Tensor: shape=(), dtype=float32, numpy=0.007710126>, <tf.Tensor: shape=(), dtype=float32, numpy=0.007841>, <tf.Tensor: shape=(), dtype=float32, numpy=0.007519566>, <tf.Tensor: shape=(), dtype=float32, numpy=0.0073605953>, <tf.Tensor: shape=(), dtype=float32, numpy=0.0074643376>, <tf.Tensor: shape=(), dtype=float32, numpy=0.007521032>, <tf.Tensor: shape=(), dtype=float32, numpy=0.0072628763>, <tf.Tensor: shape=(), dtype=float32, numpy=0.0073943003>, <tf.Tensor: shape=(), dtype=float32, numpy=0.007238176>, <tf.Tensor: shape=(), dtype=float32, numpy=0.0072482936>, <tf.Tensor: shape=(), dtype=float32, numpy=0.007048026>, <tf.Tensor: shape=(), dtype=float32, numpy=0.006877663>, <tf.Tensor: shape=(), dtype=float32, numpy=0.007161212>, <tf.Tensor: shape=(), dtype=float32, numpy=0.007149047>, <tf.Tensor: shape=(), dtype=float32, numpy=0.0070364233>, <tf.Tensor: shape=(), dtype=float32, numpy=0.0070352564>, <tf.Tensor: shape=(), dtype=float32, numpy=0.0068266946>, <tf.Tensor: shape=(), dtype=float32, numpy=0.0068265256>, <tf.Tensor: shape=(), dtype=float32, numpy=0.0066805026>, <tf.Tensor: shape=(), dtype=float32, numpy=0.0064291144>, <tf.Tensor: shape=(), dtype=float32, numpy=0.006549041>, <tf.Tensor: shape=(), dtype=float32, numpy=0.0066763656>, <tf.Tensor: shape=(), dtype=float32, numpy=0.0065426747>, <tf.Tensor: shape=(), dtype=float32, numpy=0.0065749423>, <tf.Tensor: shape=(), dtype=float32, numpy=0.0065778955>, <tf.Tensor: shape=(), dtype=float32, numpy=0.0064201206>, <tf.Tensor: shape=(), dtype=float32, numpy=0.0064167026>, <tf.Tensor: shape=(), dtype=float32, numpy=0.006485744>, <tf.Tensor: shape=(), dtype=float32, numpy=0.0062697586>, <tf.Tensor: shape=(), dtype=float32, numpy=0.0061773476>, <tf.Tensor: shape=(), dtype=float32, numpy=0.0062710666>, <tf.Tensor: shape=(), dtype=float32, numpy=0.005912741>, <tf.Tensor: shape=(), dtype=float32, numpy=0.006084398>, <tf.Tensor: shape=(), dtype=float32, numpy=0.005961422>, <tf.Tensor: shape=(), dtype=float32, numpy=0.0059528206>, <tf.Tensor: shape=(), dtype=float32, numpy=0.005975081>, <tf.Tensor: shape=(), dtype=float32, numpy=0.0060563697>, <tf.Tensor: shape=(), dtype=float32, numpy=0.005949253>, <tf.Tensor: shape=(), dtype=float32, numpy=0.005763683>, <tf.Tensor: shape=(), dtype=float32, numpy=0.005845058>, <tf.Tensor: shape=(), dtype=float32, numpy=0.005613441>, <tf.Tensor: shape=(), dtype=float32, numpy=0.005679836>, <tf.Tensor: shape=(), dtype=float32, numpy=0.005728295>, <tf.Tensor: shape=(), dtype=float32, numpy=0.005614466>, <tf.Tensor: shape=(), dtype=float32, numpy=0.0056563234>, <tf.Tensor: shape=(), dtype=float32, numpy=0.0056063742>, <tf.Tensor: shape=(), dtype=float32, numpy=0.0054504112>, <tf.Tensor: shape=(), dtype=float32, numpy=0.005601944>, <tf.Tensor: shape=(), dtype=float32, numpy=0.005325829>, <tf.Tensor: shape=(), dtype=float32, numpy=0.005479839>, <tf.Tensor: shape=(), dtype=float32, numpy=0.0054672263>, <tf.Tensor: shape=(), dtype=float32, numpy=0.005507089>, <tf.Tensor: shape=(), dtype=float32, numpy=0.005264147>, <tf.Tensor: shape=(), dtype=float32, numpy=0.005162268>, <tf.Tensor: shape=(), dtype=float32, numpy=0.0053988653>, <tf.Tensor: shape=(), dtype=float32, numpy=0.00517644>, <tf.Tensor: shape=(), dtype=float32, numpy=0.005220983>, <tf.Tensor: shape=(), dtype=float32, numpy=0.005176199>, <tf.Tensor: shape=(), dtype=float32, numpy=0.0051097055>, <tf.Tensor: shape=(), dtype=float32, numpy=0.005111649>, <tf.Tensor: shape=(), dtype=float32, numpy=0.005106465>, <tf.Tensor: shape=(), dtype=float32, numpy=0.0049955216>, <tf.Tensor: shape=(), dtype=float32, numpy=0.0047389898>, <tf.Tensor: shape=(), dtype=float32, numpy=0.0048799375>, <tf.Tensor: shape=(), dtype=float32, numpy=0.0049651875>, <tf.Tensor: shape=(), dtype=float32, numpy=0.0048822253>, <tf.Tensor: shape=(), dtype=float32, numpy=0.0047823745>, <tf.Tensor: shape=(), dtype=float32, numpy=0.0048365905>, <tf.Tensor: shape=(), dtype=float32, numpy=0.0047119274>, <tf.Tensor: shape=(), dtype=float32, numpy=0.004873745>, <tf.Tensor: shape=(), dtype=float32, numpy=0.004918731>, <tf.Tensor: shape=(), dtype=float32, numpy=0.0045656124>, <tf.Tensor: shape=(), dtype=float32, numpy=0.004859464>, <tf.Tensor: shape=(), dtype=float32, numpy=0.00477499>, <tf.Tensor: shape=(), dtype=float32, numpy=0.0044671223>, <tf.Tensor: shape=(), dtype=float32, numpy=0.004597175>, <tf.Tensor: shape=(), dtype=float32, numpy=0.004547657>, <tf.Tensor: shape=(), dtype=float32, numpy=0.004553414>, <tf.Tensor: shape=(), dtype=float32, numpy=0.00449977>, <tf.Tensor: shape=(), dtype=float32, numpy=0.004392039>]\n"
          ],
          "name": "stdout"
        }
      ]
    },
    {
      "cell_type": "code",
      "metadata": {
        "id": "-3FgBbPd-YsA",
        "outputId": "d7a4dda8-7cf6-41b7-cdba-4a4f9a637309",
        "colab": {
          "base_uri": "https://localhost:8080/",
          "height": 279
        }
      },
      "source": [
        "# Visualize accuracy and loss for training and test data. \n",
        "# One plot training and test loss.\n",
        "# One plot training and test accuracy.\n",
        "plt.figure()\n",
        "line1, = plt.plot(train_losses)\n",
        "line2, = plt.plot(test_losses)\n",
        "plt.xlabel(\"Training steps\")\n",
        "plt.ylabel(\"Loss\")\n",
        "plt.legend((line1,line2),(\"training\",\"test\"))\n",
        "plt.show()\n"
      ],
      "execution_count": 37,
      "outputs": [
        {
          "output_type": "display_data",
          "data": {
            "image/png": "[encoded data removed]",
            "text/plain": [
              "<Figure size 432x288 with 1 Axes>"
            ]
          },
          "metadata": {
            "tags": [],
            "needs_background": "light"
          }
        }
      ]
    },
    {
      "cell_type": "code",
      "metadata": {
        "id": "PqsI-4f6-YsF",
        "outputId": "13b1dd98-5906-4219-8f8b-0140482c55c6",
        "colab": {
          "base_uri": "https://localhost:8080/",
          "height": 283
        }
      },
      "source": [
        "# Plot training and test data.\n",
        "plt.figure()\n",
        "plt.scatter(training_data_xs, training_data_ys, c='red')\n",
        "plt.scatter(test_data_xs, test_data_ys, c='blue')\n",
        "\n",
        "# Calculate the network's output for 100 xs.\n",
        "xs =  np.linspace(-5,5,200, dtype=np.float32)\n",
        "xs = np.reshape(xs, newshape=(-1,1))\n",
        "print(xs.shape)\n",
        "ys = model(xs)\n",
        "#print(ys)\n",
        "\n",
        "# Plot it.\n",
        "plt.plot(xs,ys)\n",
        "plt.xlim(-5,5)\n",
        "plt.show()"
      ],
      "execution_count": 38,
      "outputs": [
        {
          "output_type": "stream",
          "text": [
            "(200, 1)\n"
          ],
          "name": "stdout"
        },
        {
          "output_type": "display_data",
          "data": {
            "image/png": "[encoded data removed]",
            "text/plain": [
              "<Figure size 432x288 with 1 Axes>"
            ]
          },
          "metadata": {
            "tags": [],
            "needs_background": "light"
          }
        }
      ]
    },
    {
      "cell_type": "code",
      "metadata": {
        "id": "SxVjrT3W2qkR"
      },
      "source": [
        ""
      ],
      "execution_count": 38,
      "outputs": []
    }
  ]
}